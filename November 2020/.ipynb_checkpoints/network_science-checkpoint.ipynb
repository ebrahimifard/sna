{
 "cells": [
  {
   "cell_type": "markdown",
   "metadata": {
    "slideshow": {
     "slide_type": "slide"
    }
   },
   "source": [
    "# <span style=\"color:gray\">(Social)</span> <span style=\"color:blue\">Network Analysis</span>\n",
    "#### By Amir E. Fard\n",
    "###### aef1370@gmail.com | a.ebrahimifard@tudelft.nl"
   ]
  },
  {
   "cell_type": "markdown",
   "metadata": {},
   "source": [
    "# Logistics\n",
    "\n",
    "Time? with break? (how long and at what time?)\n",
    "\n",
    "shared document for the discussions?\n",
    "\n",
    "recording?\n",
    "\n",
    "encouraged to switch on the camera? \n",
    "\n",
    "please switch off your microphone?\n",
    "\n",
    "interactive activities using Kahoot or Mentimeter?\n",
    "\n",
    "Have a paper and pen ready?\n",
    "\n",
    "Have python + requirements installed in your computer?\n",
    "\n",
    "Discussion 9 is okay?"
   ]
  },
  {
   "cell_type": "markdown",
   "metadata": {
    "slideshow": {
     "slide_type": "slide"
    }
   },
   "source": [
    "# Outline\n",
    "- Laying down the foundation\n",
    "    - What is a network\n",
    "    - Network representations\n",
    "    - Why network\n",
    "    - Some examples\n",
    "    - Tangible vs intangible networks\n",
    "    - Network, social network?\n",
    "    - Weighted networks\n",
    "    - Directed networks\n",
    "    - Network elements\n",
    "    - Path and cycle\n",
    "- Building the networks\n",
    "- Network analysis\n",
    "    - Node metrics\n",
    "    - Structural metrics\n",
    "- Advanced topics\n",
    "    - Erdos-Renyi random graphs\n",
    "    - Scale Free Networks\n",
    "- Further avenues in the networks universe\n",
    "    - Applications"
   ]
  },
  {
   "cell_type": "code",
   "execution_count": null,
   "metadata": {
    "slideshow": {
     "slide_type": "notes"
    }
   },
   "outputs": [],
   "source": [
    "import networkx as nx\n",
    "import matplotlib.pyplot as plt\n",
    "import random\n",
    "import seaborn as sns\n",
    "import numpy as np\n",
    "import collections\n",
    "from IPython.display import Image"
   ]
  },
  {
   "cell_type": "markdown",
   "metadata": {},
   "source": [
    "# ------------------------------------ <span style=\"color:green\">Laying down the foundation</span> ------------------------------------"
   ]
  },
  {
   "cell_type": "markdown",
   "metadata": {},
   "source": [
    "# <span style=\"color:blue\">What is a network?</span>\n",
    "## If we take a look at the etymology of the word network, it originally refers to the *open mesh of twine* and *a spider’s web*.\n",
    "## an arrangement of intersecting horizontal and vertical lines.\n",
    "## These are not practical"
   ]
  },
  {
   "cell_type": "markdown",
   "metadata": {},
   "source": [
    "![alt text here](./figs/web.jpg)"
   ]
  },
  {
   "cell_type": "code",
   "execution_count": null,
   "metadata": {},
   "outputs": [],
   "source": [
    "### https://athenapallas.wordpress.com/2010/06/04/the-web-of-pride-and-envy/\n",
    "### https://mashedradish.com/2017/12/18/the-etymological-network-of-net/\n",
    "### https://www.lexico.com/definition/network"
   ]
  },
  {
   "cell_type": "markdown",
   "metadata": {},
   "source": [
    "# <span style=\"color:blue\">Network representation</span>\n",
    "## There are more practical ways to represent networks:\n",
    "* **Mathematical notation**\n",
    "* **Adjacency matrix**\n",
    "* **Network visualisation**"
   ]
  },
  {
   "cell_type": "markdown",
   "metadata": {},
   "source": [
    "## Network visualisation"
   ]
  },
  {
   "cell_type": "markdown",
   "metadata": {},
   "source": [
    "![alt text here](./figs/visual.PNG)"
   ]
  },
  {
   "cell_type": "code",
   "execution_count": null,
   "metadata": {},
   "outputs": [],
   "source": [
    "#https://medium.com/basecs/a-gentle-introduction-to-graph-theory-77969829ead8"
   ]
  },
  {
   "cell_type": "markdown",
   "metadata": {},
   "source": [
    "## Mathematical notation"
   ]
  },
  {
   "cell_type": "markdown",
   "metadata": {},
   "source": [
    "![alt text here](./figs/math.PNG)"
   ]
  },
  {
   "cell_type": "code",
   "execution_count": null,
   "metadata": {},
   "outputs": [],
   "source": [
    "#https://medium.com/basecs/a-gentle-introduction-to-graph-theory-77969829ead8"
   ]
  },
  {
   "cell_type": "markdown",
   "metadata": {},
   "source": [
    "## Adjacancy matrix"
   ]
  },
  {
   "cell_type": "markdown",
   "metadata": {},
   "source": [
    "![alt text here](./figs/adjacancy.PNG)"
   ]
  },
  {
   "cell_type": "code",
   "execution_count": null,
   "metadata": {},
   "outputs": [],
   "source": [
    "#https://www.ebi.ac.uk/training-beta/online/courses/network-analysis-of-protein-interaction-data-an-introduction/introduction-to-graph-theory/graph-theory-adjacency-matrices/"
   ]
  },
  {
   "cell_type": "markdown",
   "metadata": {},
   "source": [
    "# <span style=\"color:red\">Discussion 1</span> \n",
    "## When do we use each of the abovementioned representations?"
   ]
  },
  {
   "cell_type": "markdown",
   "metadata": {},
   "source": [
    "# <span style=\"color:red\">Discussion 2</span> \n",
    "## Why do we use the network data structure? "
   ]
  },
  {
   "cell_type": "markdown",
   "metadata": {
    "slideshow": {
     "slide_type": "slide"
    }
   },
   "source": [
    "# <span style=\"color:blue\">Why network?</span>\n",
    "## - It captures the relationships of the datapoints/components relationships\n",
    "## - It allows us to to study the macro behaviour of a system from the micro behaviour of its components (e.g. spread of diseases, citation patterns, collaboration between organisations, energy grids, ... )"
   ]
  },
  {
   "cell_type": "markdown",
   "metadata": {},
   "source": [
    "# <span style=\"color:blue\">Some examples</span>"
   ]
  },
  {
   "cell_type": "markdown",
   "metadata": {
    "slideshow": {
     "slide_type": "slide"
    }
   },
   "source": [
    "![alt text here](./figs/football.png)"
   ]
  },
  {
   "cell_type": "code",
   "execution_count": null,
   "metadata": {},
   "outputs": [],
   "source": [
    "#Pappalardo, L., Cintia, P., Rossi, A., Massucco, E., Ferragina, P., Pedreschi, D., & Giannotti, F. (2019). A public data set of spatio-temporal match events in soccer competitions. Scientific data, 6(1), 1-15."
   ]
  },
  {
   "cell_type": "markdown",
   "metadata": {},
   "source": [
    "![alt text here](./figs/nature.jpg)\n",
    "\n",
    "https://www.nature.com/immersive/d41586-019-03165-4/index.html"
   ]
  },
  {
   "cell_type": "code",
   "execution_count": null,
   "metadata": {},
   "outputs": [],
   "source": [
    "# https://www.nature.com/immersive/d42859-019-00121-0/index.html"
   ]
  },
  {
   "cell_type": "markdown",
   "metadata": {},
   "source": [
    "![alt text here](./figs/art.jpg)"
   ]
  },
  {
   "cell_type": "code",
   "execution_count": null,
   "metadata": {
    "slideshow": {
     "slide_type": "notes"
    }
   },
   "outputs": [],
   "source": [
    "# Fraiberger, S. P., Sinatra, R., Resch, M., Riedl, C., & Barabási, A. L. (2018). Quantifying reputation and success in art. Science, 362(6416), 825-829.\n",
    "# Coexhibition network: The nodes are institutions (galleries, museums). Node size is proportional to each institution’s eigenvector centrality. Nodes are connected if they both exhibited the same artist, with link weightsbeing equal to the number of artists’coexhibitions. Node colors encode the region in which institutions are located. Links are of the same colors astheir end nodes, or gray when end nodes have different colors."
   ]
  },
  {
   "cell_type": "markdown",
   "metadata": {},
   "source": [
    "![alt text here](./figs/disease.png)"
   ]
  },
  {
   "cell_type": "code",
   "execution_count": null,
   "metadata": {},
   "outputs": [],
   "source": [
    "# Goh, K. I., Cusick, M. E., Valle, D., Childs, B., Vidal, M., & Barabási, A. L. (2007). The human disease network. Proceedings of the National Academy of Sciences, 104(21), 8685-8690."
   ]
  },
  {
   "cell_type": "markdown",
   "metadata": {},
   "source": [
    "# <span style=\"color:blue\">Tangible vs Intangible Networks</span>\n",
    "\n",
    "## The networks with physcial nodes and links are called tangible and if either does not exist, it would be intangible "
   ]
  },
  {
   "cell_type": "markdown",
   "metadata": {},
   "source": [
    "# <span style=\"color:red\">Discussion 3</span> \n",
    "## Choose which one of the following networks is tangible and which one is intangible?\n",
    " \n",
    "* The airport network\n",
    "* The virus transmission network\n",
    "* The friendship network\n",
    "* The POWER grid network\n",
    "* The Internet\n",
    "* WWW\n",
    "* The collaboration network (science, actor)"
   ]
  },
  {
   "cell_type": "markdown",
   "metadata": {},
   "source": [
    "# Network and Social Networks\n",
    "## So far we learned what is network, then what is social network?\n",
    "### Depending on the topic of interest the network analysis takes various names (e.g. social network, organisational network, ...)"
   ]
  },
  {
   "cell_type": "markdown",
   "metadata": {},
   "source": [
    "# <span style=\"color:blue\">Weighted networks</span>\n",
    "* the amount of time two individual spends with each other instead of just friendship existence in friendship network\n",
    "* the amount of common border instead of just border existence in countries network"
   ]
  },
  {
   "cell_type": "markdown",
   "metadata": {},
   "source": [
    "![alt text here](./figs/weighted.png)"
   ]
  },
  {
   "cell_type": "markdown",
   "metadata": {},
   "source": [
    "# <span style=\"color:blue\">Directed network vs undirected network</span>\n",
    "\n",
    "* dircted: import/export networks, influence network (followership network), communication network, ...\n",
    "* undirected: transportation network (roads, rails, airport),  "
   ]
  },
  {
   "cell_type": "markdown",
   "metadata": {},
   "source": [
    "![alt text here](./figs/directed.png)"
   ]
  },
  {
   "cell_type": "markdown",
   "metadata": {},
   "source": [
    "# <span style=\"color:blue\">Path, geodesics and cycle</span>"
   ]
  },
  {
   "cell_type": "markdown",
   "metadata": {
    "slideshow": {
     "slide_type": "slide"
    }
   },
   "source": [
    "### Path: a sequence of nodes (which, by most definitions, are all distinct) \n",
    "### Geodesics: the shortest path between two nodes\n",
    "### Cycle: a non-empty path in which the only repeated nodes are the first and last vertices."
   ]
  },
  {
   "cell_type": "markdown",
   "metadata": {},
   "source": [
    "![alt text here](./figs/path_geodesic_cycle.png)"
   ]
  },
  {
   "cell_type": "markdown",
   "metadata": {},
   "source": [
    "### Eulerian cycle: a path that crosses every edge in G exactly once and finishes at the starting node."
   ]
  },
  {
   "cell_type": "markdown",
   "metadata": {},
   "source": [
    "![alt text here](./figs/eulerian_cycle.png)"
   ]
  },
  {
   "cell_type": "code",
   "execution_count": null,
   "metadata": {
    "slideshow": {
     "slide_type": "notes"
    }
   },
   "outputs": [],
   "source": [
    "# Note: In a connected graph, If every node has even degree, the graph has eulrian cycle\n",
    "# Example: Municipality wants to clean all the streets after christmas. If they can find a hamiltonian cycle then it would be an optimsed route "
   ]
  },
  {
   "cell_type": "markdown",
   "metadata": {},
   "source": [
    "### Hamiltonian path: a path that visits each vertex exactly once."
   ]
  },
  {
   "cell_type": "markdown",
   "metadata": {},
   "source": [
    "![alt text here](./figs/hamiltonian_cycle.png)"
   ]
  },
  {
   "cell_type": "code",
   "execution_count": null,
   "metadata": {
    "slideshow": {
     "slide_type": "notes"
    }
   },
   "outputs": [],
   "source": [
    "# EXAMPLE : Optimzed route for post.nl to deliver the packages"
   ]
  },
  {
   "cell_type": "markdown",
   "metadata": {},
   "source": [
    "# <span style=\"color:red\">Discussion 4</span> \n",
    "## Can you think of any application for eulerian/hamiltonian cycle?"
   ]
  },
  {
   "cell_type": "markdown",
   "metadata": {},
   "source": [
    "# ------------------------------------ <span style=\"color:green\">Building the networks</span> ------------------------------------"
   ]
  },
  {
   "cell_type": "markdown",
   "metadata": {
    "slideshow": {
     "slide_type": "slide"
    }
   },
   "source": [
    "### Nodes?\n",
    "### Links?\n",
    "### Directed?\n",
    "### Weighted?\n",
    "### Boundary?\n",
    "### You can add other properties when you visualise your graph (e.g. node/edge color, node size, ... )"
   ]
  },
  {
   "cell_type": "code",
   "execution_count": null,
   "metadata": {
    "slideshow": {
     "slide_type": "notes"
    }
   },
   "outputs": [],
   "source": [
    "# Building the networks\n",
    "### Nodes : It depends on the research question => Unit of analysis \n",
    "### Links: \n",
    "### Directed?\n",
    "### Weighted?\n",
    "### Boundary?\n",
    "### You can add other properties when you visualise your graph (e.g. node/edge color, node size, ... )"
   ]
  },
  {
   "cell_type": "markdown",
   "metadata": {
    "slideshow": {
     "slide_type": "slide"
    }
   },
   "source": [
    "# <span style=\"color:red\">Discussion 5</span> \n",
    "## Imagine an earthquake hit city X. Many humanitarian organisations set off to that city. Many volounteers also join the aid operation. You want to understand the collaboration mechanisms during this disaster. How does your network look like?"
   ]
  },
  {
   "cell_type": "markdown",
   "metadata": {
    "slideshow": {
     "slide_type": "slide"
    }
   },
   "source": [
    "# ------------------------------------ <span style=\"color:green\">Network analysis</span> ------------------------------------"
   ]
  },
  {
   "cell_type": "markdown",
   "metadata": {},
   "source": [
    "# <span style=\"color:blue\">Node metrics</span>\n",
    "- Degrees and degree distribution\n",
    "- Centrality measures"
   ]
  },
  {
   "cell_type": "markdown",
   "metadata": {
    "slideshow": {
     "slide_type": "slide"
    }
   },
   "source": [
    "## Degrees and degree distribution"
   ]
  },
  {
   "cell_type": "markdown",
   "metadata": {},
   "source": [
    "![alt text here](./figs/degree.png)"
   ]
  },
  {
   "cell_type": "markdown",
   "metadata": {},
   "source": [
    "![alt text here](./figs/degree_distribution.jpg)"
   ]
  },
  {
   "cell_type": "markdown",
   "metadata": {
    "slideshow": {
     "slide_type": "slide"
    }
   },
   "source": [
    "## Centrality measures\n",
    "- degree centrality\n",
    "    - C(i) ~ k(i) (centrality of node i changes by degree of that node)\n",
    "    - Based on degree centrality, the more connection a node has, the more important that node is. Airport, citation\n",
    "    and friendship are the cases that degree centrality works well\n",
    "\n",
    "- closeness centrality\n",
    "    - This measure is calculated via C = 1/L(i) which L(i) denotes the average distance of node i to all the others.\n",
    "    Collaboration networks is a case that closeness centrality works well \n",
    "    - Closeness centrality doesn't span much\n",
    "    \n",
    "- betweenness centrality\n",
    "    - C(i) ~ # shortest paths between all pairs passing through node i\n",
    "    - Very large span for large networks\n",
    "- eigenvector centrality\n",
    "    - The philosophy underneath this centrality measure: Important nodes are connected to important nodes\n",
    "    - Eigen vector centrality is a recursive approach\n",
    "    - Eigenvector centrality is a variation of degree centrality. However, unlike degree centrality, which gives\n",
    "    equal weights to all the neighbors, eigenvector centrality weights adjacent nodes by their centrality:\n",
    "\n",
    "- page-rank centrality\n",
    "    - PageRank is a variant of eigenvector centrality and was popularized in the original algorithm used by Google for\n",
    "    ordering its\n",
    "    - search results. The PageRank measure was initially proposed for link analysis in the World Wide Web.\n",
    "    - PageRank, named after Google co-founder Larry Page, is one of the algorithms that Google uses to rank websites\n",
    "    in its search results. \n",
    "    - PageRank works by counting the number and quality of links to a page to determine a rough estimate of how\n",
    "    important the website is. \n",
    "    - The main assumption behind the algorithm is that more important websites are more likely to receive links from\n",
    "    other websites. \n",
    "    - On this basis the algorithm assigns a weight to each of the nodes in a network.\n"
   ]
  },
  {
   "cell_type": "markdown",
   "metadata": {},
   "source": [
    "![alt text here](./figs/centrality.png)"
   ]
  },
  {
   "cell_type": "code",
   "execution_count": null,
   "metadata": {
    "slideshow": {
     "slide_type": "slide"
    }
   },
   "outputs": [],
   "source": [
    "# Reference: Toju, H., Yamamichi, M., Guimaraes Jr, P. R., Olesen, J. M., Mougi, A., Yoshida, T., & Thompson, J. N. (2017). Species-rich networks and eco-evolutionary synthesis at the metacommunity level. Nature ecology & evolution, 1(2), 0024."
   ]
  },
  {
   "cell_type": "code",
   "execution_count": null,
   "metadata": {
    "slideshow": {
     "slide_type": "notes"
    }
   },
   "outputs": [],
   "source": [
    "# Degree centrality\n",
    "# C(i) ~ k(i) (centrality of node i changes by degree of that node)\n",
    "# Based on degree centrality, the more connection a node has, the more important that node is. Airport, citation and friendship are the cases that degree centrality works well\n",
    "# When to use it: For finding very connected individuals, popular individuals, individuals who are likely to hold most information or individuals who can quickly connect with the wider network."
   ]
  },
  {
   "cell_type": "code",
   "execution_count": null,
   "metadata": {
    "slideshow": {
     "slide_type": "notes"
    }
   },
   "outputs": [],
   "source": [
    "# Closeness centrality\n",
    "# This measure is calculated via C = 1/L(i) which L(i) denotes the average distance of node i to all the others. Collaboration networks is a case that closeness centrality works well \n",
    "# Closeness centrality doesn't span much\n",
    "# When to use it: For finding the individuals who are best placed to influence the entire network most quickly."
   ]
  },
  {
   "cell_type": "code",
   "execution_count": null,
   "metadata": {
    "slideshow": {
     "slide_type": "notes"
    }
   },
   "outputs": [],
   "source": [
    "# Betweenness centrality\n",
    "# C(i) ~ # shortest paths between all pairs passing through node i\n",
    "# Very large span for large networks\n",
    "# When to use it: For finding the individuals who influence the flow around a system."
   ]
  },
  {
   "cell_type": "code",
   "execution_count": null,
   "metadata": {
    "slideshow": {
     "slide_type": "notes"
    }
   },
   "outputs": [],
   "source": [
    "# Eigenvector centrality\n",
    "# The philosophy underneath this centrality measure: Important nodes are connected to important nodes\n",
    "# Eigen vector centrality is a recursive approach\n",
    "# Eigenvector centrality is a variation of degree centrality. However, unlike degree centrality, which gives equal weights to all the neighbors, eigenvector centrality weights adjacent nodes by their centrality:"
   ]
  },
  {
   "cell_type": "code",
   "execution_count": null,
   "metadata": {
    "slideshow": {
     "slide_type": "notes"
    }
   },
   "outputs": [],
   "source": [
    "# Page Rank centrality\n",
    "# PageRank is a variant of eigenvector centrality and was popularized in the original algorithm used by Google for ordering its\n",
    "# search results. The PageRank measure was initially proposed for link analysis in the World Wide Web.\n",
    "# PageRank, named after Google co-founder Larry Page, is one of the algorithms that Google uses to rank websites in its search results. \n",
    "#PageRank works by counting the number and quality of links to a page to determine a rough estimate of how important the website is. \n",
    "# The main assumption behind the algorithm is that more important websites are more likely to receive links from other websites. \n",
    "# On this basis the algorithm assigns a weight to each of the nodes in a network."
   ]
  },
  {
   "cell_type": "code",
   "execution_count": null,
   "metadata": {},
   "outputs": [],
   "source": []
  },
  {
   "cell_type": "markdown",
   "metadata": {},
   "source": [
    "# <span style=\"color:red\">Discussion 6</span> \n",
    "## Florentine marriage case"
   ]
  },
  {
   "cell_type": "markdown",
   "metadata": {},
   "source": [
    "![alt text here](./figs/florentine_marriage.png)"
   ]
  },
  {
   "cell_type": "code",
   "execution_count": null,
   "metadata": {},
   "outputs": [],
   "source": [
    "## The following Fgure provides the links between the key families in Florence at that time, where a link represents a marriage between members of the two linked families"
   ]
  },
  {
   "cell_type": "code",
   "execution_count": null,
   "metadata": {
    "slideshow": {
     "slide_type": "notes"
    }
   },
   "outputs": [],
   "source": [
    "# This measure of betweenness for the\n",
    "# Medici is .522. That means that if we look at all the shortest paths between various\n",
    "# families (other than the Medici) in this network, the Medici lie on over half of them! In\n",
    "# contrast, a similar calculation for the Strozzi comes out at .103, or just over ten percent.\n",
    "# The second highest family in terms of betweenness after the Medici is the Guadagni\n",
    "# with a betweenness of .255. To the extent that marriage relationships were keys to\n",
    "# communicating information, brokering business deals, and reaching political decisions,\n",
    "# the Medici were much better positioned than other families, at least according to this\n",
    "# notion of betweenness.\n",
    "\n",
    "# Reference: Jackson, M. O. (2010). Social and economic networks. Princeton university press."
   ]
  },
  {
   "cell_type": "code",
   "execution_count": null,
   "metadata": {},
   "outputs": [],
   "source": []
  },
  {
   "cell_type": "markdown",
   "metadata": {
    "slideshow": {
     "slide_type": "slide"
    }
   },
   "source": [
    "# <span style=\"color:red\">Discussion 7</span> \n",
    "\n",
    "## You are the marketing manager of a company and you would like to launch a campaign for your company's new product. Your strategy is to use influencers marketing. To whom do you talk to? what kind of influencer?"
   ]
  },
  {
   "cell_type": "markdown",
   "metadata": {
    "slideshow": {
     "slide_type": "slide"
    }
   },
   "source": [
    "# <span style=\"color:red\">Discussion 8</span> \n",
    "## You are working in the Police communication department. You receive a news about a terroristic attack in city X. You want to let everybody knows as soon as possible. In addition to traditional media and Police account in social media, you ask a few of influencers to share the news. To whom do you talk to? what kind of influencer?¶"
   ]
  },
  {
   "cell_type": "markdown",
   "metadata": {
    "slideshow": {
     "slide_type": "slide"
    }
   },
   "source": [
    "# <span style=\"color:blue\">Structural Metrics</span> \n",
    "- Community\n",
    "- Homophily"
   ]
  },
  {
   "cell_type": "markdown",
   "metadata": {},
   "source": [
    "## Community"
   ]
  },
  {
   "cell_type": "markdown",
   "metadata": {},
   "source": [
    "![alt text here](./figs/community1.png)"
   ]
  },
  {
   "cell_type": "markdown",
   "metadata": {},
   "source": [
    "![alt text here](./figs/community2.png)"
   ]
  },
  {
   "cell_type": "markdown",
   "metadata": {
    "slideshow": {
     "slide_type": "notes"
    }
   },
   "source": [
    "Reference: Mining of the Massive Datasets, Jure Leskovec"
   ]
  },
  {
   "cell_type": "markdown",
   "metadata": {
    "slideshow": {
     "slide_type": "slide"
    }
   },
   "source": [
    "## Homophily\n",
    "One related topic to community detection is homophily. Two interesting examples:\n",
    "* School children\n",
    "* Segregation"
   ]
  },
  {
   "cell_type": "markdown",
   "metadata": {},
   "source": [
    "![alt text here](./figs/homophily1.png)"
   ]
  },
  {
   "cell_type": "markdown",
   "metadata": {},
   "source": [
    "![alt text here](./figs/homophily2.png)"
   ]
  },
  {
   "cell_type": "markdown",
   "metadata": {},
   "source": [
    "![alt text here](./figs/homophily3.png)"
   ]
  },
  {
   "cell_type": "markdown",
   "metadata": {
    "slideshow": {
     "slide_type": "notes"
    }
   },
   "source": [
    "References: \n",
    "    * Baerveldt, C., Van Duijn, M. A., Vermeij, L., & Van Hemert, D. A. (2004). Ethnic boundaries and personal choice. Assessing the influence of individual inclinations to choose intra-ethnic relationships on pupils’ networks. Social Networks, 26(1), 55-74.\n",
    "    * Currarini, S., Jackson, M. O., & Pin, P. (2009). An economic model of friendship: Homophily, minorities, and segregation. Econometrica, 77(4), 1003-1045.\n",
    "    * Easley, D., & Kleinberg, J. (2010). Networks, crowds, and markets: Reasoning about a highly connected world. Cambridge University Press."
   ]
  },
  {
   "cell_type": "markdown",
   "metadata": {},
   "source": [
    "# <span style=\"color:red\">Discussion 9</span> \n",
    "## Please take a look at your whatsapp (or any other messaging app you are working with) and indicate among the top 10 person (not group) in your feed/timeline, how many of them have the same nationality as you? "
   ]
  },
  {
   "cell_type": "markdown",
   "metadata": {},
   "source": [
    "# ------------------------------------ <span style=\"color:green\">Advanced topics</span> ------------------------------------"
   ]
  },
  {
   "cell_type": "markdown",
   "metadata": {
    "slideshow": {
     "slide_type": "slide"
    }
   },
   "source": [
    "# <span style=\"color:blue\">Erdos-Renyi random graphs</span> "
   ]
  },
  {
   "cell_type": "markdown",
   "metadata": {},
   "source": [
    "![alt text here](./figs/randomNetwork1.png)"
   ]
  },
  {
   "cell_type": "markdown",
   "metadata": {},
   "source": [
    "![alt text here](./figs/randomNetwork2.png)"
   ]
  },
  {
   "cell_type": "markdown",
   "metadata": {},
   "source": [
    "# <span style=\"color:blue\">Scale Free Network</span> "
   ]
  },
  {
   "cell_type": "markdown",
   "metadata": {},
   "source": [
    "![alt text here](./figs/scale-free.png)"
   ]
  },
  {
   "cell_type": "markdown",
   "metadata": {},
   "source": [
    "![alt text here](./figs/scale-free2.png)"
   ]
  },
  {
   "cell_type": "markdown",
   "metadata": {
    "slideshow": {
     "slide_type": "notes"
    }
   },
   "source": [
    "Reference:\n",
    "    * Barabási, A. L., & Bonabeau, E. (2003). Scale-free networks. Scientific american, 288(5), 60-69.\n",
    "    * Barabási, A. L. (2016). Network science. Cambridge university press."
   ]
  },
  {
   "cell_type": "markdown",
   "metadata": {
    "slideshow": {
     "slide_type": "slide"
    }
   },
   "source": [
    "# Network elements\n",
    "### - Node\n",
    "### - Edge"
   ]
  },
  {
   "cell_type": "code",
   "execution_count": null,
   "metadata": {
    "slideshow": {
     "slide_type": "notes"
    }
   },
   "outputs": [],
   "source": [
    "# Making graph\n",
    "G = nx.Graph()\n",
    "\n",
    "# Adding the nodes\n",
    "G.add_node(1)\n",
    "G.add_nodes_from([2,3,4,5])\n",
    "G.add_node(6)\n",
    "G.add_nodes_from([7,8,9,10])\n",
    "G.add_node(11)\n",
    "G.add_node(12)\n",
    "\n",
    "# Adding the edges\n",
    "G.add_edge(1,3)\n",
    "G.add_edge(*(1,5))\n",
    "G.add_edges_from([(2,4), (4,5), (3,4), (10,9), (2,3)])\n",
    "G.add_edges_from([(7,9), (7,8), (8,10), (6,9)])\n",
    "\n",
    "# Visualization\n",
    "# nx.draw(G, with_labels=True)\n",
    "# nx.draw_kamada_kawai(G, with_labels=True)\n",
    "# nx.draw_networkx(G, with_labels=True)\n",
    "# nx.draw_random(G, with_labels=True)\n",
    "# nx.draw_shell(G, with_labels=True)\n",
    "# nx.draw_spectral(G, with_labels=True)\n",
    "nx.draw_spring(G, with_labels=True)\n",
    "plt.show()"
   ]
  },
  {
   "cell_type": "markdown",
   "metadata": {},
   "source": [
    "# Path, geodesics and cycle"
   ]
  },
  {
   "cell_type": "code",
   "execution_count": null,
   "metadata": {
    "slideshow": {
     "slide_type": "notes"
    }
   },
   "outputs": [],
   "source": [
    "# First we visualize the graph\n",
    "nx.draw(G, with_labels=True)\n",
    "plt.show()"
   ]
  },
  {
   "cell_type": "code",
   "execution_count": null,
   "metadata": {
    "slideshow": {
     "slide_type": "notes"
    }
   },
   "outputs": [],
   "source": [
    "# In calculating the shortest path between nodes in a graph, a very important point is to know whether the graph is connected or disconnected. If it's a connected graph there is no problem, otherwise in disconnected graph, the shortest path algorithm should applied on the connected components\n",
    "condition = nx.is_connected(G)\n",
    "sourceNode = \"1\"\n",
    "targetNode = \"30\"\n",
    "if condition:\n",
    "    print(nx.shortest_path_length(G, source=sourceNode, target=targetNode))\n",
    "    print(nx.shortest_path(G, source=sourceNode, target=targetNode))\n",
    "    print(list(nx.shortest_paths.all_shortest_paths(G, source=sourceNode, target=targetNode)))\n",
    "    # A simple path is a path with no repeated nodes\n",
    "    simplePaths = list(nx.simple_paths.all_simple_paths(G, source=sourceNode, target=targetNode))"
   ]
  },
  {
   "cell_type": "code",
   "execution_count": null,
   "metadata": {
    "slideshow": {
     "slide_type": "notes"
    }
   },
   "outputs": [],
   "source": [
    "nx.cycle_basis(G)"
   ]
  },
  {
   "cell_type": "code",
   "execution_count": null,
   "metadata": {
    "slideshow": {
     "slide_type": "notes"
    }
   },
   "outputs": [],
   "source": [
    "EG = nx.Graph()\n",
    "EG.add_edges_from([(1,2),(1,3),(2,3)])\n",
    "if nx.is_eulerian(EG):\n",
    "    for a  in nx.eulerian_circuit(EG):\n",
    "        print(a)"
   ]
  },
  {
   "cell_type": "code",
   "execution_count": null,
   "metadata": {
    "slideshow": {
     "slide_type": "notes"
    }
   },
   "outputs": [],
   "source": [
    "# Hamiltonian cycle\n",
    "HG = nx.DiGraph()\n",
    "HG.add_edges_from([(1,2),(2,3),(3,4),(4,1)])\n",
    "nx.tournament.hamiltonian_path(HG)"
   ]
  },
  {
   "cell_type": "markdown",
   "metadata": {
    "slideshow": {
     "slide_type": "notes"
    }
   },
   "source": [
    "Maybe you noticed, the difference between hamiltonian and eulerian cycle is really small. An Euler path is a path that crosses every edge exactly once without repeating, if it ends at the initial vertex then it is Euler cycle. A Hamiltonian path passes through each vertex (note not each edge), exactly once, if it ends at the initial vertex then it is a Hamiltonian cycle"
   ]
  },
  {
   "cell_type": "markdown",
   "metadata": {
    "slideshow": {
     "slide_type": "slide"
    }
   },
   "source": [
    "# Network types"
   ]
  },
  {
   "cell_type": "code",
   "execution_count": null,
   "metadata": {
    "slideshow": {
     "slide_type": "notes"
    }
   },
   "outputs": [],
   "source": [
    "# Node attribute\n",
    "G =nx.Graph()\n",
    "G.add_edges_from([(1,2),(1,3),(2,3),(4,5),(5,6),(7,8),(3,6),(4,8)])\n",
    "# G.nodes is the method to associate an attribute to an existing node \n",
    "for i in G.nodes:\n",
    "    if i%2 == 0:\n",
    "        G.nodes[i][\"colour\"] = \"Red\"\n",
    "    else:\n",
    "        G.nodes[i][\"colour\"] = \"Blue\"\n",
    "    G.nodes[i][\"name\"] = f'Node {i}'\n",
    "\n",
    "G.add_node(9,colour=\"Yellow\")\n",
    "G.nodes.data()"
   ]
  },
  {
   "cell_type": "code",
   "execution_count": null,
   "metadata": {
    "slideshow": {
     "slide_type": "notes"
    }
   },
   "outputs": [],
   "source": [
    "# Edge attribute\n",
    "G =nx.Graph()\n",
    "G.add_edges_from([(u,random.randint(1,11),\n",
    "                   {\"weight\": random.uniform(1,10), \"colour\":random.choice([\"Red\", \"Blue\"])}\n",
    "                  ) \n",
    "                  for u in  range(1,10)\n",
    "                 ])\n",
    "G.edges.data()"
   ]
  },
  {
   "cell_type": "code",
   "execution_count": null,
   "metadata": {
    "slideshow": {
     "slide_type": "notes"
    }
   },
   "outputs": [],
   "source": [
    "# Visualization based on attributes\n",
    "# Here, we added size & colour to the nodes and weight to the edges\n",
    "G = nx.generators.random_graphs.fast_gnp_random_graph(10,0.25)\n",
    "edgeWeights = [random.randint(1,5) for i in range(10)]\n",
    "nodeSize = [random.randint(1,1000) for i in range(10)]\n",
    "nodeColour = [random.choice([\"r\",\"b\", \"green\", \"yellow\"]) for i in range(10)]\n",
    "\n",
    "\n",
    "pos = nx.circular_layout(G)\n",
    "nx.draw_networkx_nodes(G, pos, node_size=nodeSize, node_color=nodeColour)\n",
    "nx.draw_networkx_edges(G, pos, width=edgeWeights)\n",
    "plt.show()"
   ]
  },
  {
   "cell_type": "code",
   "execution_count": null,
   "metadata": {
    "slideshow": {
     "slide_type": "notes"
    }
   },
   "outputs": [],
   "source": [
    "DG = nx.DiGraph()\n",
    "DG.add_edge(1,2)\n",
    "DG.add_edges_from([(1,4),(1,5),(5,3)])\n",
    "DG.add_edge(3,2)\n",
    "DG.add_edges_from([(4,3),(6,2)])\n",
    "DG.add_nodes_from([7,8,9])\n",
    "DG.add_edge(9,7)\n",
    "nx.draw_circular(DG, with_labels=True)\n",
    "plt.show()"
   ]
  },
  {
   "cell_type": "markdown",
   "metadata": {},
   "source": [
    "# Network Analysis"
   ]
  },
  {
   "cell_type": "code",
   "execution_count": null,
   "metadata": {
    "slideshow": {
     "slide_type": "notes"
    }
   },
   "outputs": [],
   "source": [
    "# This is the network of fake-news related concepts in wikipedia \n",
    "wikipediaFakeNewsAdr = \"./data/graph_100.gexf\"\n",
    "wikipediaConcepts = nx.read_gexf(wikipediaFakeNewsAdr)\n",
    "nx.draw(wikipediaConcepts, with_labels=True)\n",
    "plt.show()"
   ]
  },
  {
   "cell_type": "code",
   "execution_count": null,
   "metadata": {
    "slideshow": {
     "slide_type": "notes"
    }
   },
   "outputs": [],
   "source": [
    "# Degree distribution\n",
    "degree_sequence = sorted([d for n, d in wikipediaConcepts.degree()], reverse=True)  # degree sequence\n",
    "# print \"Degree sequence\", degree_sequence\n",
    "degreeCount = collections.Counter(degree_sequence)\n",
    "deg, cnt = zip(*degreeCount.items())\n",
    "\n",
    "fig, ax = plt.subplots()\n",
    "plt.bar(deg, cnt, width=.80, color='b')\n",
    "\n",
    "\n",
    "plt.title(\"Degree Histogram\")\n",
    "plt.ylabel(\"Count\")\n",
    "plt.xlabel(\"Degree\")\n",
    "ax.set_xticks([d + 0.4 for d in deg])\n",
    "ax.set_xticklabels(deg)\n",
    "\n",
    "plt.show()"
   ]
  },
  {
   "cell_type": "markdown",
   "metadata": {
    "slideshow": {
     "slide_type": "slide"
    }
   },
   "source": [
    "# Centrality measures"
   ]
  },
  {
   "cell_type": "code",
   "execution_count": null,
   "metadata": {
    "slideshow": {
     "slide_type": "notes"
    }
   },
   "outputs": [],
   "source": [
    "# Degree centrality\n",
    "# C(i) ~ k(i) (centrality of node i changes by degree of that node)\n",
    "# Based on degree centrality, the more connection a node has, the more important that node is. Airport, citation and friendship are the cases that degree centrality works well\n",
    "# When to use it: For finding very connected individuals, popular individuals, individuals who are likely to hold most information or individuals who can quickly connect with the wider network.\n",
    "degreeCentrality = nx.degree_centrality(G)"
   ]
  },
  {
   "cell_type": "code",
   "execution_count": null,
   "metadata": {
    "slideshow": {
     "slide_type": "notes"
    }
   },
   "outputs": [],
   "source": [
    "# Closeness centrality\n",
    "# This measure is calculated via C = 1/L(i) which L(i) denotes the average distance of node i to all the others. Collaboration networks is a case that closeness centrality works well \n",
    "# Closeness centrality doesn't span much\n",
    "# When to use it: For finding the individuals who are best placed to influence the entire network most quickly.\n",
    "closenessCentrality = nx.closeness_centrality(G)"
   ]
  },
  {
   "cell_type": "code",
   "execution_count": null,
   "metadata": {
    "slideshow": {
     "slide_type": "notes"
    }
   },
   "outputs": [],
   "source": [
    "# Betweenness centrality\n",
    "# C(i) ~ # shortest paths between all pairs passing through node i\n",
    "# Very large span for large networks\n",
    "# When to use it: For finding the individuals who influence the flow around a system.\n",
    "betweennessCentrality = nx.betweenness_centrality(G)"
   ]
  },
  {
   "cell_type": "code",
   "execution_count": null,
   "metadata": {
    "slideshow": {
     "slide_type": "notes"
    }
   },
   "outputs": [],
   "source": [
    "# Eigenvector centrality\n",
    "# The philosophy underneath this centrality measure: Important nodes are connected to important nodes\n",
    "# Eigen vector centrality is a recursive approach\n",
    "# Eigenvector centrality is a variation of degree centrality. However, unlike degree centrality, which gives equal weights to all the neighbors, eigenvector centrality weights adjacent nodes by their centrality:\n",
    "eigenvectorCentrality = nx.eigenvector_centrality(G)"
   ]
  },
  {
   "cell_type": "code",
   "execution_count": null,
   "metadata": {
    "slideshow": {
     "slide_type": "notes"
    }
   },
   "outputs": [],
   "source": [
    "# Page Rank centrality\n",
    "# PageRank is a variant of eigenvector centrality and was popularized in the original algorithm used by Google for ordering its\n",
    "# search results. The PageRank measure was initially proposed for link analysis in the World Wide Web.\n",
    "# PageRank, named after Google co-founder Larry Page, is one of the algorithms that Google uses to rank websites in its search results. \n",
    "#PageRank works by counting the number and quality of links to a page to determine a rough estimate of how important the website is. \n",
    "# The main assumption behind the algorithm is that more important websites are more likely to receive links from other websites. \n",
    "# On this basis the algorithm assigns a weight to each of the nodes in a network.\n",
    "pagerankCentrality = nx.pagerank(G)"
   ]
  },
  {
   "cell_type": "code",
   "execution_count": null,
   "metadata": {
    "slideshow": {
     "slide_type": "notes"
    }
   },
   "outputs": [],
   "source": [
    "correlation = Image('./figs/correlation.PNG')\n",
    "# Source = https://journals.plos.org/plosone/article?id=10.1371/journal.pone.0220061\n",
    "# Here we calculate correlations between 17 different centrality measures across 212 diverse real-world networks, examine how these correlations relate to variations in network density and global topology, and investigate whether nodes can be clustered into distinct classes according to their centrality profiles. We find that centrality measures are generally positively correlated to each other, the strength of these correlations varies across networks, and network modularity plays a key role in driving these cross-network variations. "
   ]
  },
  {
   "cell_type": "markdown",
   "metadata": {
    "slideshow": {
     "slide_type": "slide"
    }
   },
   "source": [
    "# Structural Metrics\n",
    "- Community\n",
    "- Homophily"
   ]
  },
  {
   "cell_type": "code",
   "execution_count": null,
   "metadata": {
    "slideshow": {
     "slide_type": "notes"
    }
   },
   "outputs": [],
   "source": [
    "# The functions in this class are not imported into the top-level networkx namespace. You can access these functions by importing the networkx.algorithms.community module, then accessing the functions as attributes of community\n",
    "# This class implemented Newman-Girvan method\n",
    "# The other very popular community detection method is the Louvain method which is implemented in Gephi\n",
    "from networkx.algorithms import community\n",
    "communities_generator = community.girvan_newman(G)\n",
    "top_level_communities = next(communities_generator)\n",
    "next_level_communities = next(communities_generator)\n",
    "communities = sorted(map(sorted, next_level_communities))"
   ]
  },
  {
   "cell_type": "markdown",
   "metadata": {
    "slideshow": {
     "slide_type": "slide"
    }
   },
   "source": [
    "- Advanced topics\n",
    "    - Erdos-Renyi random graphs\n",
    "    - Scale Free Network"
   ]
  },
  {
   "cell_type": "code",
   "execution_count": null,
   "metadata": {
    "slideshow": {
     "slide_type": "notes"
    }
   },
   "outputs": [],
   "source": [
    "ERG = nx.erdos_renyi_graph(1000,0.2)\n",
    "SFN = nx.scale_free_graph(1000)\n",
    "SMW = nx.watts_strogatz_graph(1000,3,0.1)"
   ]
  },
  {
   "cell_type": "markdown",
   "metadata": {
    "slideshow": {
     "slide_type": "notes"
    }
   },
   "source": [
    "Reference:\n",
    "    * Barabási, A. L., & Bonabeau, E. (2003). Scale-free networks. Scientific american, 288(5), 60-69.\n",
    "    * Barabási, A. L. (2016). Network science. Cambridge university press."
   ]
  },
  {
   "cell_type": "markdown",
   "metadata": {
    "slideshow": {
     "slide_type": "notes"
    }
   },
   "source": [
    "# <span style=\"color:red\">Discussion 10</span> \n",
    "Make a random directed graph with 50 nodes and give a random weight from 1 to 10 to each edge. Then visualize the graph regarding two following conditions:\n",
    "1. The size of the nodes should be associated with the nodes degree\n",
    "2. The thickness of each edge should be associted with edge weights\n",
    "3. The colour of nodes has to be associated with their degree in a way that as the degree of a node increases the colour of that node becomes more sharp\n",
    "3. The colour of edges has to be associated with their weights in a way that as the weight of an edge increases the colour of that edge becomes more sharp"
   ]
  },
  {
   "cell_type": "code",
   "execution_count": null,
   "metadata": {
    "slideshow": {
     "slide_type": "notes"
    }
   },
   "outputs": [],
   "source": [
    "G = nx.erdos_renyi_graph(10, 0.1, directed=True)\n",
    "inDeg = dict(G.in_degree())\n",
    "outDeg = dict(G.out_degree())\n",
    "for edge in G.edges:\n",
    "    G[edge[0]][edge[1]][\"weight\"] = random.randint(1,5)\n",
    "edgeWeights = [u[2][\"weight\"] for u in G.edges.data()]\n",
    "\n",
    "# Making the colour palette and linking it the edges according to theor weights\n",
    "colourPalette = sns.color_palette(\"Blues\",5)\n",
    "edgeWeighColour = dict(zip(range(1,6),colourPalette))\n",
    "for edge in G.edges:\n",
    "    G[edge[0]][edge[1]][\"colour\"] = edgeWeighColour[G[edge[0]][edge[1]][\"weight\"]]\n",
    "edgeColours = [u[2][\"colour\"] for u in G.edges.data()]   \n",
    "\n",
    "# Associating the color of the nodes with the their out-degree\n",
    "outDegUnique = np.unique([i for i in outDeg.values()])\n",
    "colourPalette = sns.color_palette(\"Reds\",len(outDegUnique))\n",
    "nodeOutDegDict = dict(zip(outDegUnique,colourPalette))\n",
    "for i in G.nodes:\n",
    "    G.nodes[i][\"colour\"] = nodeOutDegDict[outDeg[i]]\n",
    "nodeColour = [i[1][\"colour\"] for i in G.nodes.data()]\n",
    "    \n",
    "# This line makes the figure bigger\n",
    "plt.figure(num=None, figsize=(12, 10), dpi=80)\n",
    "\n",
    "# Setting the layout, nodes, edges and lables\n",
    "pos = nx.circular_layout(G)\n",
    "nx.draw_networkx_nodes(G, pos, node_size=[100*inDeg[u] for u in inDeg], node_color=nodeColour)\n",
    "nx.draw_networkx_edges(G, pos, width=edgeWeights, edge_color=edgeColours)\n",
    "nx.draw_networkx_labels(G, pos)\n",
    "\n",
    "# Drawing the network\n",
    "plt.show()"
   ]
  }
 ],
 "metadata": {
  "celltoolbar": "Raw Cell Format",
  "kernelspec": {
   "display_name": "Python 3",
   "language": "python",
   "name": "python3"
  },
  "language_info": {
   "codemirror_mode": {
    "name": "ipython",
    "version": 3
   },
   "file_extension": ".py",
   "mimetype": "text/x-python",
   "name": "python",
   "nbconvert_exporter": "python",
   "pygments_lexer": "ipython3",
   "version": "3.7.9"
  }
 },
 "nbformat": 4,
 "nbformat_minor": 4
}
